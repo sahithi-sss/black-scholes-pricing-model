{
 "cells": [
  {
   "cell_type": "code",
   "execution_count": 4,
   "metadata": {},
   "outputs": [],
   "source": [
    "import math\n",
    "from scipy.stats import norm\n",
    "\n",
    "def black_scholes(S, K, T, r, sigma, option_type=\"call\"):\n",
    "    \n",
    "    # Calculate d1 and d2\n",
    "    d1 = (math.log(S / K) + (r + 0.5 * sigma**2) * T) / (sigma * math.sqrt(T))\n",
    "    d2 = d1 - sigma * math.sqrt(T)\n",
    "    \n",
    "    if option_type == \"call\":\n",
    "        # Call option price\n",
    "        price = S * norm.cdf(d1) - K * math.exp(-r * T) * norm.cdf(d2)\n",
    "    elif option_type == \"put\":\n",
    "        # Put option price\n",
    "        price = K * math.exp(-r * T) * norm.cdf(-d2) - S * norm.cdf(-d1)\n",
    "    else:\n",
    "        raise ValueError(\"Invalid option type. Use 'call' or 'put'.\")\n",
    "    \n",
    "    return price\n",
    "\n"
   ]
  },
  {
   "cell_type": "markdown",
   "metadata": {},
   "source": [
    "Calculate the Black-Scholes option price for a European option.\n",
    "    \n",
    "    Parameters:\n",
    "    S (float): Current stock price\n",
    "    K (float): Strike price of the option\n",
    "    T (float): Time to expiration in years\n",
    "    r (float): Risk-free interest rate (annualized)\n",
    "    sigma (float): Volatility of the stock (annualized standard deviation)\n",
    "    option_type (str): Type of option - \"call\" or \"put\"\n",
    "    \n",
    "    Returns:\n",
    "    float: Theoretical option price"
   ]
  },
  {
   "cell_type": "code",
   "execution_count": 5,
   "metadata": {},
   "outputs": [
    {
     "name": "stdout",
     "output_type": "stream",
     "text": [
      "Call Option Price: 10.45\n",
      "Put Option Price: 5.57\n"
     ]
    }
   ],
   "source": [
    "\n",
    "# Example Usage:\n",
    "if __name__ == \"__main__\":\n",
    "    # Inputs\n",
    "    S = 100  # Current stock price\n",
    "    K = 100  # Strike price\n",
    "    T = 1    # Time to expiration (1 year)\n",
    "    r = 0.05 # Risk-free interest rate (5%)\n",
    "    sigma = 0.2 # Volatility (20%)\n",
    "    \n",
    "    # Calculate option prices\n",
    "    call_price = black_scholes(S, K, T, r, sigma, option_type=\"call\")\n",
    "    put_price = black_scholes(S, K, T, r, sigma, option_type=\"put\")\n",
    "    \n",
    "    print(f\"Call Option Price: {call_price:.2f}\")\n",
    "    print(f\"Put Option Price: {put_price:.2f}\")"
   ]
  }
 ],
 "metadata": {
  "kernelspec": {
   "display_name": "Python 3",
   "language": "python",
   "name": "python3"
  },
  "language_info": {
   "codemirror_mode": {
    "name": "ipython",
    "version": 3
   },
   "file_extension": ".py",
   "mimetype": "text/x-python",
   "name": "python",
   "nbconvert_exporter": "python",
   "pygments_lexer": "ipython3",
   "version": "3.12.4"
  }
 },
 "nbformat": 4,
 "nbformat_minor": 2
}
